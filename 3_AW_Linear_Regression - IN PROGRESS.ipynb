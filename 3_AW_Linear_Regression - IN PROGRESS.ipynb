{
 "cells": [
  {
   "cell_type": "markdown",
   "metadata": {},
   "source": [
    "# AdventureWorks Analysis - IN PROGRESS\n",
    "From EdX Microsoft DAT 275x course, \"Principles of Machine Learning: Python Edition\"\n",
    "## 3. Linear Regression \n",
    "\n",
    "### The linear regression model will predict customers' average monthly spend. "
   ]
  },
  {
   "cell_type": "code",
   "execution_count": 1,
   "metadata": {},
   "outputs": [],
   "source": [
    "#Load required packages \n",
    "\n",
    "import pandas as pd\n",
    "from sklearn import preprocessing\n",
    "import sklearn.model_selection as ms\n",
    "from sklearn import linear_model\n",
    "import sklearn.metrics as sklm\n",
    "import numpy as np\n",
    "import numpy.random as nr\n",
    "import matplotlib.pyplot as plt\n",
    "import seaborn as sns\n",
    "import scipy.stats as ss\n",
    "import math\n",
    "\n",
    "%matplotlib inline"
   ]
  },
  {
   "cell_type": "code",
   "execution_count": 2,
   "metadata": {},
   "outputs": [
    {
     "name": "stdout",
     "output_type": "stream",
     "text": [
      "(16471, 13)\n"
     ]
    },
    {
     "data": {
      "text/html": [
       "<div>\n",
       "<style scoped>\n",
       "    .dataframe tbody tr th:only-of-type {\n",
       "        vertical-align: middle;\n",
       "    }\n",
       "\n",
       "    .dataframe tbody tr th {\n",
       "        vertical-align: top;\n",
       "    }\n",
       "\n",
       "    .dataframe thead th {\n",
       "        text-align: right;\n",
       "    }\n",
       "</style>\n",
       "<table border=\"1\" class=\"dataframe\">\n",
       "  <thead>\n",
       "    <tr style=\"text-align: right;\">\n",
       "      <th></th>\n",
       "      <th>BikeBuyer</th>\n",
       "      <th>Country</th>\n",
       "      <th>Education</th>\n",
       "      <th>Occupation</th>\n",
       "      <th>Gender</th>\n",
       "      <th>MaritalStatus</th>\n",
       "      <th>Home</th>\n",
       "      <th>AveMoSpend</th>\n",
       "      <th>Income</th>\n",
       "      <th>BirthYear</th>\n",
       "      <th>Cars</th>\n",
       "      <th>Child_Home</th>\n",
       "      <th>Child_Total</th>\n",
       "    </tr>\n",
       "  </thead>\n",
       "  <tbody>\n",
       "    <tr>\n",
       "      <th>0</th>\n",
       "      <td>0</td>\n",
       "      <td>Australia</td>\n",
       "      <td>Bachelors</td>\n",
       "      <td>Professional</td>\n",
       "      <td>M</td>\n",
       "      <td>M</td>\n",
       "      <td>1</td>\n",
       "      <td>89</td>\n",
       "      <td>137947</td>\n",
       "      <td>1966</td>\n",
       "      <td>0</td>\n",
       "      <td>0</td>\n",
       "      <td>2</td>\n",
       "    </tr>\n",
       "    <tr>\n",
       "      <th>1</th>\n",
       "      <td>1</td>\n",
       "      <td>Australia</td>\n",
       "      <td>Bachelors</td>\n",
       "      <td>Professional</td>\n",
       "      <td>M</td>\n",
       "      <td>S</td>\n",
       "      <td>0</td>\n",
       "      <td>117</td>\n",
       "      <td>101141</td>\n",
       "      <td>1965</td>\n",
       "      <td>1</td>\n",
       "      <td>3</td>\n",
       "      <td>3</td>\n",
       "    </tr>\n",
       "    <tr>\n",
       "      <th>2</th>\n",
       "      <td>0</td>\n",
       "      <td>Australia</td>\n",
       "      <td>Bachelors</td>\n",
       "      <td>Professional</td>\n",
       "      <td>M</td>\n",
       "      <td>M</td>\n",
       "      <td>1</td>\n",
       "      <td>123</td>\n",
       "      <td>91945</td>\n",
       "      <td>1965</td>\n",
       "      <td>1</td>\n",
       "      <td>3</td>\n",
       "      <td>3</td>\n",
       "    </tr>\n",
       "    <tr>\n",
       "      <th>3</th>\n",
       "      <td>0</td>\n",
       "      <td>Australia</td>\n",
       "      <td>Bachelors</td>\n",
       "      <td>Professional</td>\n",
       "      <td>F</td>\n",
       "      <td>S</td>\n",
       "      <td>0</td>\n",
       "      <td>50</td>\n",
       "      <td>86688</td>\n",
       "      <td>1968</td>\n",
       "      <td>1</td>\n",
       "      <td>0</td>\n",
       "      <td>0</td>\n",
       "    </tr>\n",
       "    <tr>\n",
       "      <th>4</th>\n",
       "      <td>1</td>\n",
       "      <td>Australia</td>\n",
       "      <td>Bachelors</td>\n",
       "      <td>Professional</td>\n",
       "      <td>F</td>\n",
       "      <td>S</td>\n",
       "      <td>1</td>\n",
       "      <td>95</td>\n",
       "      <td>92771</td>\n",
       "      <td>1968</td>\n",
       "      <td>4</td>\n",
       "      <td>5</td>\n",
       "      <td>5</td>\n",
       "    </tr>\n",
       "  </tbody>\n",
       "</table>\n",
       "</div>"
      ],
      "text/plain": [
       "   BikeBuyer    Country   Education    Occupation Gender MaritalStatus  Home  \\\n",
       "0          0  Australia  Bachelors   Professional      M             M     1   \n",
       "1          1  Australia  Bachelors   Professional      M             S     0   \n",
       "2          0  Australia  Bachelors   Professional      M             M     1   \n",
       "3          0  Australia  Bachelors   Professional      F             S     0   \n",
       "4          1  Australia  Bachelors   Professional      F             S     1   \n",
       "\n",
       "   AveMoSpend  Income  BirthYear  Cars  Child_Home  Child_Total  \n",
       "0          89  137947       1966     0           0            2  \n",
       "1         117  101141       1965     1           3            3  \n",
       "2         123   91945       1965     1           3            3  \n",
       "3          50   86688       1968     1           0            0  \n",
       "4          95   92771       1968     4           5            5  "
      ]
     },
     "execution_count": 2,
     "metadata": {},
     "output_type": "execute_result"
    }
   ],
   "source": [
    "#Import working file from 1_AW_Data_Prep.ipynb\n",
    "\n",
    "df_1 = pd.read_csv('working_df.csv')\n",
    "print(df_1.shape)\n",
    "df_1.head()"
   ]
  },
  {
   "cell_type": "markdown",
   "metadata": {},
   "source": [
    "### Feature Selection \n",
    "\n",
    "The following features are selected to include in the linear regression model based on the work completed in the second workbook on exploratory data analysis and visualizations, \"2_AW_EDA and Visualization\": \n",
    "\n",
    "* Numeric: \n",
    "    * Child_Home \n",
    "    * Income \n",
    "* Categorical: \n",
    "    * BikeBuyer\n",
    "    * Occupation \n",
    "    * Gender\n",
    "    * MaritalStatus\n",
    "\n",
    "Load file and select features that will be used in the regression model.\n"
   ]
  },
  {
   "cell_type": "code",
   "execution_count": 3,
   "metadata": {},
   "outputs": [
    {
     "data": {
      "text/html": [
       "<div>\n",
       "<style scoped>\n",
       "    .dataframe tbody tr th:only-of-type {\n",
       "        vertical-align: middle;\n",
       "    }\n",
       "\n",
       "    .dataframe tbody tr th {\n",
       "        vertical-align: top;\n",
       "    }\n",
       "\n",
       "    .dataframe thead th {\n",
       "        text-align: right;\n",
       "    }\n",
       "</style>\n",
       "<table border=\"1\" class=\"dataframe\">\n",
       "  <thead>\n",
       "    <tr style=\"text-align: right;\">\n",
       "      <th></th>\n",
       "      <th>AveMoSpend</th>\n",
       "      <th>Child_Home</th>\n",
       "      <th>Income</th>\n",
       "      <th>BikeBuyer</th>\n",
       "      <th>Occupation</th>\n",
       "      <th>Gender</th>\n",
       "      <th>MaritalStatus</th>\n",
       "    </tr>\n",
       "  </thead>\n",
       "  <tbody>\n",
       "    <tr>\n",
       "      <th>0</th>\n",
       "      <td>89</td>\n",
       "      <td>0</td>\n",
       "      <td>137947</td>\n",
       "      <td>0</td>\n",
       "      <td>Professional</td>\n",
       "      <td>M</td>\n",
       "      <td>M</td>\n",
       "    </tr>\n",
       "    <tr>\n",
       "      <th>1</th>\n",
       "      <td>117</td>\n",
       "      <td>3</td>\n",
       "      <td>101141</td>\n",
       "      <td>1</td>\n",
       "      <td>Professional</td>\n",
       "      <td>M</td>\n",
       "      <td>S</td>\n",
       "    </tr>\n",
       "    <tr>\n",
       "      <th>2</th>\n",
       "      <td>123</td>\n",
       "      <td>3</td>\n",
       "      <td>91945</td>\n",
       "      <td>0</td>\n",
       "      <td>Professional</td>\n",
       "      <td>M</td>\n",
       "      <td>M</td>\n",
       "    </tr>\n",
       "    <tr>\n",
       "      <th>3</th>\n",
       "      <td>50</td>\n",
       "      <td>0</td>\n",
       "      <td>86688</td>\n",
       "      <td>0</td>\n",
       "      <td>Professional</td>\n",
       "      <td>F</td>\n",
       "      <td>S</td>\n",
       "    </tr>\n",
       "    <tr>\n",
       "      <th>4</th>\n",
       "      <td>95</td>\n",
       "      <td>5</td>\n",
       "      <td>92771</td>\n",
       "      <td>1</td>\n",
       "      <td>Professional</td>\n",
       "      <td>F</td>\n",
       "      <td>S</td>\n",
       "    </tr>\n",
       "  </tbody>\n",
       "</table>\n",
       "</div>"
      ],
      "text/plain": [
       "   AveMoSpend  Child_Home  Income  BikeBuyer    Occupation Gender  \\\n",
       "0          89           0  137947          0  Professional      M   \n",
       "1         117           3  101141          1  Professional      M   \n",
       "2         123           3   91945          0  Professional      M   \n",
       "3          50           0   86688          0  Professional      F   \n",
       "4          95           5   92771          1  Professional      F   \n",
       "\n",
       "  MaritalStatus  \n",
       "0             M  \n",
       "1             S  \n",
       "2             M  \n",
       "3             S  \n",
       "4             S  "
      ]
     },
     "execution_count": 3,
     "metadata": {},
     "output_type": "execute_result"
    }
   ],
   "source": [
    "#Remove excess columns and re-order with label first \n",
    "\n",
    "df_2 = df_1.iloc[:,[7,11,8,0,3,4,5]].copy()\n",
    "df_2.head()"
   ]
  },
  {
   "cell_type": "markdown",
   "metadata": {},
   "source": [
    "### Data Transformation\n",
    "\n",
    "Create a column with the log of AveMoSpend ('Log_AveMoSpend') and compare its distribution to AveMoSpend in an effort to normalize the distribution. The distribution of Log_AveMoSpend does appear more normal and will therefore be used as the label. "
   ]
  },
  {
   "cell_type": "code",
   "execution_count": 4,
   "metadata": {},
   "outputs": [
    {
     "data": {
      "text/html": [
       "<div>\n",
       "<style scoped>\n",
       "    .dataframe tbody tr th:only-of-type {\n",
       "        vertical-align: middle;\n",
       "    }\n",
       "\n",
       "    .dataframe tbody tr th {\n",
       "        vertical-align: top;\n",
       "    }\n",
       "\n",
       "    .dataframe thead th {\n",
       "        text-align: right;\n",
       "    }\n",
       "</style>\n",
       "<table border=\"1\" class=\"dataframe\">\n",
       "  <thead>\n",
       "    <tr style=\"text-align: right;\">\n",
       "      <th></th>\n",
       "      <th>AveMoSpend</th>\n",
       "      <th>Child_Home</th>\n",
       "      <th>Income</th>\n",
       "      <th>BikeBuyer</th>\n",
       "      <th>Occupation</th>\n",
       "      <th>Gender</th>\n",
       "      <th>MaritalStatus</th>\n",
       "      <th>Log_AveMoSpend</th>\n",
       "    </tr>\n",
       "  </thead>\n",
       "  <tbody>\n",
       "    <tr>\n",
       "      <th>0</th>\n",
       "      <td>89</td>\n",
       "      <td>0</td>\n",
       "      <td>137947</td>\n",
       "      <td>0</td>\n",
       "      <td>Professional</td>\n",
       "      <td>M</td>\n",
       "      <td>M</td>\n",
       "      <td>4.488636</td>\n",
       "    </tr>\n",
       "    <tr>\n",
       "      <th>1</th>\n",
       "      <td>117</td>\n",
       "      <td>3</td>\n",
       "      <td>101141</td>\n",
       "      <td>1</td>\n",
       "      <td>Professional</td>\n",
       "      <td>M</td>\n",
       "      <td>S</td>\n",
       "      <td>4.762174</td>\n",
       "    </tr>\n",
       "    <tr>\n",
       "      <th>2</th>\n",
       "      <td>123</td>\n",
       "      <td>3</td>\n",
       "      <td>91945</td>\n",
       "      <td>0</td>\n",
       "      <td>Professional</td>\n",
       "      <td>M</td>\n",
       "      <td>M</td>\n",
       "      <td>4.812184</td>\n",
       "    </tr>\n",
       "    <tr>\n",
       "      <th>3</th>\n",
       "      <td>50</td>\n",
       "      <td>0</td>\n",
       "      <td>86688</td>\n",
       "      <td>0</td>\n",
       "      <td>Professional</td>\n",
       "      <td>F</td>\n",
       "      <td>S</td>\n",
       "      <td>3.912023</td>\n",
       "    </tr>\n",
       "    <tr>\n",
       "      <th>4</th>\n",
       "      <td>95</td>\n",
       "      <td>5</td>\n",
       "      <td>92771</td>\n",
       "      <td>1</td>\n",
       "      <td>Professional</td>\n",
       "      <td>F</td>\n",
       "      <td>S</td>\n",
       "      <td>4.553877</td>\n",
       "    </tr>\n",
       "  </tbody>\n",
       "</table>\n",
       "</div>"
      ],
      "text/plain": [
       "   AveMoSpend  Child_Home  Income  BikeBuyer    Occupation Gender  \\\n",
       "0          89           0  137947          0  Professional      M   \n",
       "1         117           3  101141          1  Professional      M   \n",
       "2         123           3   91945          0  Professional      M   \n",
       "3          50           0   86688          0  Professional      F   \n",
       "4          95           5   92771          1  Professional      F   \n",
       "\n",
       "  MaritalStatus  Log_AveMoSpend  \n",
       "0             M        4.488636  \n",
       "1             S        4.762174  \n",
       "2             M        4.812184  \n",
       "3             S        3.912023  \n",
       "4             S        4.553877  "
      ]
     },
     "execution_count": 4,
     "metadata": {},
     "output_type": "execute_result"
    }
   ],
   "source": [
    "#Create a new variable that is the log of AveMoSpend and rename \"Log_AveMoSpend\"\n",
    "\n",
    "df_2['Log_AveMoSpend'] = np.log(df_2['AveMoSpend'])\n",
    "df_2.head()"
   ]
  },
  {
   "cell_type": "code",
   "execution_count": 5,
   "metadata": {},
   "outputs": [
    {
     "data": {
      "image/png": "[encoded data removed]",
      "text/plain": [
       "<Figure size 432x288 with 1 Axes>"
      ]
     },
     "metadata": {},
     "output_type": "display_data"
    },
    {
     "data": {
      "image/png": "[encoded data removed]",
      "text/plain": [
       "<Figure size 432x288 with 1 Axes>"
      ]
     },
     "metadata": {},
     "output_type": "display_data"
    }
   ],
   "source": [
    "#Combined histograms and kdes of AveMoSpend and Log_AveMoSpend\n",
    "\n",
    "def plot_density_hist(df_2, cols, bins = 20, hist = True):\n",
    "    for col in cols:\n",
    "        sns.set_style(\"whitegrid\")\n",
    "        sns.distplot(df_2[col], bins = bins, rug = True, hist = hist)\n",
    "        plt.title('Histogram of ' + col) # Give the plot a main title\n",
    "        plt.xlabel(col) # Set text for the x axis\n",
    "        plt.show()\n",
    " \n",
    "num_cols = ['AveMoSpend','Log_AveMoSpend']    \n",
    "plot_density_hist(df_2, num_cols, bins = 20, hist = True) "
   ]
  },
  {
   "cell_type": "markdown",
   "metadata": {},
   "source": [
    "### Check for Outliers\n",
    "\n",
    "Check for outliers. The maximum and minimum observations for numeric features are less than +/- three standard deviations from the mean. This seems reasonable and I will therefore not remove any data points. "
   ]
  },
  {
   "cell_type": "code",
   "execution_count": 6,
   "metadata": {},
   "outputs": [
    {
     "data": {
      "text/html": [
       "<div>\n",
       "<style scoped>\n",
       "    .dataframe tbody tr th:only-of-type {\n",
       "        vertical-align: middle;\n",
       "    }\n",
       "\n",
       "    .dataframe tbody tr th {\n",
       "        vertical-align: top;\n",
       "    }\n",
       "\n",
       "    .dataframe thead th {\n",
       "        text-align: right;\n",
       "    }\n",
       "</style>\n",
       "<table border=\"1\" class=\"dataframe\">\n",
       "  <thead>\n",
       "    <tr style=\"text-align: right;\">\n",
       "      <th></th>\n",
       "      <th>AveMoSpend</th>\n",
       "      <th>Child_Home</th>\n",
       "      <th>Income</th>\n",
       "      <th>BikeBuyer</th>\n",
       "      <th>Log_AveMoSpend</th>\n",
       "    </tr>\n",
       "  </thead>\n",
       "  <tbody>\n",
       "    <tr>\n",
       "      <th>count</th>\n",
       "      <td>16471.0</td>\n",
       "      <td>16471.0</td>\n",
       "      <td>16471.0</td>\n",
       "      <td>16471.0</td>\n",
       "      <td>16471.0</td>\n",
       "    </tr>\n",
       "    <tr>\n",
       "      <th>mean</th>\n",
       "      <td>72.4</td>\n",
       "      <td>1.0</td>\n",
       "      <td>78157.3</td>\n",
       "      <td>0.3</td>\n",
       "      <td>4.2</td>\n",
       "    </tr>\n",
       "    <tr>\n",
       "      <th>std</th>\n",
       "      <td>27.3</td>\n",
       "      <td>1.5</td>\n",
       "      <td>39708.9</td>\n",
       "      <td>0.5</td>\n",
       "      <td>0.3</td>\n",
       "    </tr>\n",
       "    <tr>\n",
       "      <th>min</th>\n",
       "      <td>22.0</td>\n",
       "      <td>0.0</td>\n",
       "      <td>9482.0</td>\n",
       "      <td>0.0</td>\n",
       "      <td>3.1</td>\n",
       "    </tr>\n",
       "    <tr>\n",
       "      <th>25%</th>\n",
       "      <td>52.0</td>\n",
       "      <td>0.0</td>\n",
       "      <td>47842.0</td>\n",
       "      <td>0.0</td>\n",
       "      <td>4.0</td>\n",
       "    </tr>\n",
       "    <tr>\n",
       "      <th>50%</th>\n",
       "      <td>68.0</td>\n",
       "      <td>0.0</td>\n",
       "      <td>76146.0</td>\n",
       "      <td>0.0</td>\n",
       "      <td>4.2</td>\n",
       "    </tr>\n",
       "    <tr>\n",
       "      <th>75%</th>\n",
       "      <td>84.0</td>\n",
       "      <td>2.0</td>\n",
       "      <td>105202.0</td>\n",
       "      <td>1.0</td>\n",
       "      <td>4.4</td>\n",
       "    </tr>\n",
       "    <tr>\n",
       "      <th>max</th>\n",
       "      <td>176.0</td>\n",
       "      <td>5.0</td>\n",
       "      <td>196511.0</td>\n",
       "      <td>1.0</td>\n",
       "      <td>5.2</td>\n",
       "    </tr>\n",
       "  </tbody>\n",
       "</table>\n",
       "</div>"
      ],
      "text/plain": [
       "       AveMoSpend  Child_Home    Income  BikeBuyer  Log_AveMoSpend\n",
       "count     16471.0     16471.0   16471.0    16471.0         16471.0\n",
       "mean         72.4         1.0   78157.3        0.3             4.2\n",
       "std          27.3         1.5   39708.9        0.5             0.3\n",
       "min          22.0         0.0    9482.0        0.0             3.1\n",
       "25%          52.0         0.0   47842.0        0.0             4.0\n",
       "50%          68.0         0.0   76146.0        0.0             4.2\n",
       "75%          84.0         2.0  105202.0        1.0             4.4\n",
       "max         176.0         5.0  196511.0        1.0             5.2"
      ]
     },
     "execution_count": 6,
     "metadata": {},
     "output_type": "execute_result"
    }
   ],
   "source": [
    "#Check for outliers \n",
    "\n",
    "df_2.describe().round(1)"
   ]
  },
  {
   "cell_type": "markdown",
   "metadata": {},
   "source": [
    "### Data Preparation \n",
    "\n",
    "Combine categories within Occupation that have overlapping or similar distributions of label values: \n",
    "\n",
    "* Combine Professional and Management and rename 'Prof_Mgmt', and \n",
    "* Combine Skilled Manual, Clerical, and Manual and rename 'Manual_Clerical'.\n",
    "\n",
    "Transform categorical variables to dummy variables. In this case all categorical variables have only two categories. \n"
   ]
  },
  {
   "cell_type": "code",
   "execution_count": 7,
   "metadata": {},
   "outputs": [
    {
     "data": {
      "text/html": [
       "<div>\n",
       "<style scoped>\n",
       "    .dataframe tbody tr th:only-of-type {\n",
       "        vertical-align: middle;\n",
       "    }\n",
       "\n",
       "    .dataframe tbody tr th {\n",
       "        vertical-align: top;\n",
       "    }\n",
       "\n",
       "    .dataframe thead th {\n",
       "        text-align: right;\n",
       "    }\n",
       "</style>\n",
       "<table border=\"1\" class=\"dataframe\">\n",
       "  <thead>\n",
       "    <tr style=\"text-align: right;\">\n",
       "      <th></th>\n",
       "      <th>AveMoSpend</th>\n",
       "      <th>Child_Home</th>\n",
       "      <th>Income</th>\n",
       "      <th>BikeBuyer</th>\n",
       "      <th>Occupation</th>\n",
       "      <th>Gender</th>\n",
       "      <th>MaritalStatus</th>\n",
       "      <th>Log_AveMoSpend</th>\n",
       "    </tr>\n",
       "  </thead>\n",
       "  <tbody>\n",
       "    <tr>\n",
       "      <th>0</th>\n",
       "      <td>89</td>\n",
       "      <td>0</td>\n",
       "      <td>137947</td>\n",
       "      <td>0</td>\n",
       "      <td>Prof_Mgmt</td>\n",
       "      <td>M</td>\n",
       "      <td>M</td>\n",
       "      <td>4.488636</td>\n",
       "    </tr>\n",
       "    <tr>\n",
       "      <th>1</th>\n",
       "      <td>117</td>\n",
       "      <td>3</td>\n",
       "      <td>101141</td>\n",
       "      <td>1</td>\n",
       "      <td>Prof_Mgmt</td>\n",
       "      <td>M</td>\n",
       "      <td>S</td>\n",
       "      <td>4.762174</td>\n",
       "    </tr>\n",
       "    <tr>\n",
       "      <th>2</th>\n",
       "      <td>123</td>\n",
       "      <td>3</td>\n",
       "      <td>91945</td>\n",
       "      <td>0</td>\n",
       "      <td>Prof_Mgmt</td>\n",
       "      <td>M</td>\n",
       "      <td>M</td>\n",
       "      <td>4.812184</td>\n",
       "    </tr>\n",
       "    <tr>\n",
       "      <th>3</th>\n",
       "      <td>50</td>\n",
       "      <td>0</td>\n",
       "      <td>86688</td>\n",
       "      <td>0</td>\n",
       "      <td>Prof_Mgmt</td>\n",
       "      <td>F</td>\n",
       "      <td>S</td>\n",
       "      <td>3.912023</td>\n",
       "    </tr>\n",
       "    <tr>\n",
       "      <th>4</th>\n",
       "      <td>95</td>\n",
       "      <td>5</td>\n",
       "      <td>92771</td>\n",
       "      <td>1</td>\n",
       "      <td>Prof_Mgmt</td>\n",
       "      <td>F</td>\n",
       "      <td>S</td>\n",
       "      <td>4.553877</td>\n",
       "    </tr>\n",
       "  </tbody>\n",
       "</table>\n",
       "</div>"
      ],
      "text/plain": [
       "   AveMoSpend  Child_Home  Income  BikeBuyer Occupation Gender MaritalStatus  \\\n",
       "0          89           0  137947          0  Prof_Mgmt      M             M   \n",
       "1         117           3  101141          1  Prof_Mgmt      M             S   \n",
       "2         123           3   91945          0  Prof_Mgmt      M             M   \n",
       "3          50           0   86688          0  Prof_Mgmt      F             S   \n",
       "4          95           5   92771          1  Prof_Mgmt      F             S   \n",
       "\n",
       "   Log_AveMoSpend  \n",
       "0        4.488636  \n",
       "1        4.762174  \n",
       "2        4.812184  \n",
       "3        3.912023  \n",
       "4        4.553877  "
      ]
     },
     "execution_count": 7,
     "metadata": {},
     "output_type": "execute_result"
    }
   ],
   "source": [
    "# Convert 'Occupation' categories to new combined categories and convert all categorical variables to dummy variables.\n",
    "\n",
    "code_list = [['Occupation', \n",
    "            {'Clerical' : 'Manual_Clerical',\n",
    "             'Management' : 'Prof_Mgmt', \n",
    "             'Manual' : 'Manual_Clerical', \n",
    "             'Professional' : 'Prof_Mgmt', \n",
    "             'Skilled Manual' : 'Manual_Clerical'}]]\n",
    "\n",
    "for col_dic in code_list:\n",
    "    col = col_dic[0]\n",
    "    dic = col_dic[1]\n",
    "    df_2[col] = [dic[x] for x in df_2[col]]\n",
    "    \n",
    "df_2.head()"
   ]
  },
  {
   "cell_type": "markdown",
   "metadata": {},
   "source": [
    "### Prepare Model Matrix \n",
    "\n",
    "All scikit-learn models require a numpy array containing numeric values only for the features. This matrix is called a model matrix. Two steps are required to create the model matrix:\n",
    "\n",
    "* categorical variables must be converted to dummy variables (already done), and\n",
    "* numeric features must be rescaled."
   ]
  },
  {
   "cell_type": "code",
   "execution_count": 8,
   "metadata": {},
   "outputs": [
    {
     "name": "stdout",
     "output_type": "stream",
     "text": [
      "[0 1]\n",
      "[0 1 0 ... 1 0 0]\n"
     ]
    }
   ],
   "source": [
    "#Encode first categorical variable as numbers\n",
    "\n",
    "print(df_2['BikeBuyer'].unique())\n",
    "Features = df_2['BikeBuyer']\n",
    "enc = preprocessing.LabelEncoder()\n",
    "enc.fit(Features)\n",
    "Features = enc.transform(Features)\n",
    "print(Features)"
   ]
  },
  {
   "cell_type": "code",
   "execution_count": 9,
   "metadata": {},
   "outputs": [
    {
     "data": {
      "text/plain": [
       "array([[1., 0.],\n",
       "       [0., 1.],\n",
       "       [1., 0.],\n",
       "       [1., 0.],\n",
       "       [0., 1.],\n",
       "       [0., 1.],\n",
       "       [0., 1.],\n",
       "       [0., 1.],\n",
       "       [0., 1.],\n",
       "       [1., 0.]])"
      ]
     },
     "execution_count": 9,
     "metadata": {},
     "output_type": "execute_result"
    }
   ],
   "source": [
    "#Encode the numbers to a dummy variable\n",
    "\n",
    "ohe = preprocessing.OneHotEncoder(categories = 'auto')\n",
    "encoded = ohe.fit(Features.reshape(-1,1))\n",
    "Features = encoded.transform(Features.reshape(-1,1)).toarray()\n",
    "Features[:10,:]"
   ]
  },
  {
   "cell_type": "code",
   "execution_count": 10,
   "metadata": {},
   "outputs": [
    {
     "name": "stdout",
     "output_type": "stream",
     "text": [
      "(16471, 8)\n",
      "[[1. 0. 0. 1. 0. 1. 1. 0.]\n",
      " [0. 1. 0. 1. 0. 1. 0. 1.]]\n"
     ]
    }
   ],
   "source": [
    "#Add all remaining categorical variables \n",
    "\n",
    "def encode_string(cat_feature):\n",
    "    ## First encode the strings to numeric categories\n",
    "    enc = preprocessing.LabelEncoder()\n",
    "    enc.fit(cat_feature)\n",
    "    enc_cat_feature = enc.transform(cat_feature)\n",
    "    ## Now, apply one hot encoding\n",
    "    ohe = preprocessing.OneHotEncoder(categories = 'auto')\n",
    "    encoded = ohe.fit(enc_cat_feature.reshape(-1,1))\n",
    "    return encoded.transform(enc_cat_feature.reshape(-1,1)).toarray()\n",
    "    \n",
    "\n",
    "categorical_columns = ['Occupation','Gender','MaritalStatus']\n",
    "\n",
    "for col in categorical_columns:\n",
    "    temp = encode_string(df_2[col])\n",
    "    Features = np.concatenate([Features, temp], axis = 1)\n",
    "\n",
    "print(Features.shape)\n",
    "print(Features[:2, :])  "
   ]
  },
  {
   "cell_type": "code",
   "execution_count": 11,
   "metadata": {},
   "outputs": [
    {
     "data": {
      "text/plain": [
       "array([[1.00000e+00, 0.00000e+00, 0.00000e+00, 1.00000e+00, 0.00000e+00,\n",
       "        1.00000e+00, 1.00000e+00, 0.00000e+00, 0.00000e+00, 1.37947e+05],\n",
       "       [0.00000e+00, 1.00000e+00, 0.00000e+00, 1.00000e+00, 0.00000e+00,\n",
       "        1.00000e+00, 0.00000e+00, 1.00000e+00, 3.00000e+00, 1.01141e+05],\n",
       "       [1.00000e+00, 0.00000e+00, 0.00000e+00, 1.00000e+00, 0.00000e+00,\n",
       "        1.00000e+00, 1.00000e+00, 0.00000e+00, 3.00000e+00, 9.19450e+04],\n",
       "       [1.00000e+00, 0.00000e+00, 0.00000e+00, 1.00000e+00, 1.00000e+00,\n",
       "        0.00000e+00, 0.00000e+00, 1.00000e+00, 0.00000e+00, 8.66880e+04],\n",
       "       [0.00000e+00, 1.00000e+00, 0.00000e+00, 1.00000e+00, 1.00000e+00,\n",
       "        0.00000e+00, 0.00000e+00, 1.00000e+00, 5.00000e+00, 9.27710e+04]])"
      ]
     },
     "execution_count": 11,
     "metadata": {},
     "output_type": "execute_result"
    }
   ],
   "source": [
    "#Add numeric features to complete the model matrix \n",
    "\n",
    "Features = np.concatenate([Features, np.array(df_2[['Child_Home','Income']])], axis = 1)\n",
    "Features[:5,:].round(2)"
   ]
  },
  {
   "cell_type": "code",
   "execution_count": 12,
   "metadata": {},
   "outputs": [
    {
     "data": {
      "text/plain": [
       "(16471, 10)"
      ]
     },
     "execution_count": 12,
     "metadata": {},
     "output_type": "execute_result"
    }
   ],
   "source": [
    "#Check that there are the proper number of columns (one column for each unique category of all categorical variables)\n",
    "\n",
    "Features.shape"
   ]
  },
  {
   "cell_type": "markdown",
   "metadata": {},
   "source": [
    "### Split the dataset"
   ]
  },
  {
   "cell_type": "code",
   "execution_count": 13,
   "metadata": {},
   "outputs": [],
   "source": [
    "#Create randomly sampled training and test data sets using Bernoulli sampling. The test set is 3000 (18.2% of sample).\n",
    "\n",
    "nr.seed(9988)\n",
    "labels = np.array(df_2['Log_AveMoSpend'])\n",
    "indx = range(Features.shape[0])\n",
    "indx = ms.train_test_split(indx, test_size = 3000)\n",
    "x_train = Features[indx[0],:]\n",
    "y_train = np.ravel(labels[indx[0]])\n",
    "x_test = Features[indx[1],:]\n",
    "y_test = np.ravel(labels[indx[1]])"
   ]
  },
  {
   "cell_type": "markdown",
   "metadata": {},
   "source": [
    "### Rescale numeric features \n",
    "\n",
    "Rescale numeric features using z-scores so that they have a similar range of values. This prevents features with a larger range a disproportionate impact on the model. Note that the scaler is fit only on the training data. "
   ]
  },
  {
   "cell_type": "code",
   "execution_count": 14,
   "metadata": {},
   "outputs": [
    {
     "name": "stdout",
     "output_type": "stream",
     "text": [
      "(13471, 10)\n"
     ]
    },
    {
     "data": {
      "text/plain": [
       "array([[-1.41000e+00,  1.41000e+00,  0.00000e+00,  1.00000e+00,\n",
       "         0.00000e+00,  1.00000e+00,  1.00000e+00,  0.00000e+00,\n",
       "         5.00000e+00,  1.56831e+05],\n",
       "       [ 7.10000e-01, -7.10000e-01,  1.00000e+00,  0.00000e+00,\n",
       "         0.00000e+00,  1.00000e+00,  1.00000e+00,  0.00000e+00,\n",
       "         0.00000e+00,  2.27360e+04],\n",
       "       [ 7.10000e-01, -7.10000e-01,  0.00000e+00,  1.00000e+00,\n",
       "         1.00000e+00,  0.00000e+00,  0.00000e+00,  1.00000e+00,\n",
       "         2.00000e+00,  7.83100e+04],\n",
       "       [ 7.10000e-01, -7.10000e-01,  1.00000e+00,  0.00000e+00,\n",
       "         0.00000e+00,  1.00000e+00,  0.00000e+00,  1.00000e+00,\n",
       "         0.00000e+00,  1.64810e+04],\n",
       "       [-1.41000e+00,  1.41000e+00,  0.00000e+00,  1.00000e+00,\n",
       "         0.00000e+00,  1.00000e+00,  1.00000e+00,  0.00000e+00,\n",
       "         3.00000e+00,  1.41307e+05]])"
      ]
     },
     "execution_count": 14,
     "metadata": {},
     "output_type": "execute_result"
    }
   ],
   "source": [
    "scaler = preprocessing.StandardScaler().fit(x_train[:,(0,1)])\n",
    "x_train[:,(0,1)] = scaler.transform(x_train[:,(0,1)])\n",
    "x_test[:,(0,1)] = scaler.transform(x_test[:,(0,1)])\n",
    "print(x_train.shape)\n",
    "x_train[:5,:].round(2)"
   ]
  },
  {
   "cell_type": "markdown",
   "metadata": {},
   "source": [
    "### Linear regression model\n",
    "\n",
    "Note that no intercept is fit in this model. This is because its value is accommodated in the dummy variables' coefficients that were created for the categorical features.\n",
    "\n",
    "The coefficients correspond to the following variables in order.  Note that the first eight coefficients correspond with the four dummy, or categorical, variables. \n",
    "\n",
    "1. BikeBuyer = 0: Customer does not buy a bike\n",
    "2. BikeBuyer = 1: Customer buys bike\n",
    "3. Occupation = 0: Manual_Clerical: customer has a manual, skilled manual, or clerical occupation \n",
    "4. Occupation = 1: Prof_Mgmt: customer has a professional or management occupation \n",
    "5. Gender = 0: Female\n",
    "6. Gender = 1: Male\n",
    "7. MaritalStatus = 0: Married  \n",
    "8. MaritalStatus = 1: Single\n",
    "9. Child_Home = Scaled z-score of number of children at home \n",
    "10. Income = Scaled z-score of annual income \n"
   ]
  },
  {
   "cell_type": "code",
   "execution_count": 15,
   "metadata": {},
   "outputs": [
    {
     "data": {
      "text/plain": [
       "LinearRegression(copy_X=True, fit_intercept=False, n_jobs=None,\n",
       "         normalize=False)"
      ]
     },
     "execution_count": 15,
     "metadata": {},
     "output_type": "execute_result"
    }
   ],
   "source": [
    "#Define and fit the linear regression model.\n",
    "lin_mod = linear_model.LinearRegression(fit_intercept = False)\n",
    "lin_mod.fit(x_train, y_train)"
   ]
  },
  {
   "cell_type": "code",
   "execution_count": 16,
   "metadata": {},
   "outputs": [
    {
     "name": "stdout",
     "output_type": "stream",
     "text": [
      "0.0\n",
      "[-5.33701751e-03  5.33701754e-03  1.30105087e+00  1.29081339e+00\n",
      "  1.09942588e+00  1.49243838e+00  1.33876955e+00  1.25309471e+00\n",
      "  1.26884390e-01  2.56532550e-06]\n"
     ]
    }
   ],
   "source": [
    "print(lin_mod.intercept_)\n",
    "print(lin_mod.coef_)"
   ]
  },
  {
   "cell_type": "markdown",
   "metadata": {},
   "source": [
    "### Evaluate model \n",
    "\n"
   ]
  },
  {
   "cell_type": "code",
   "execution_count": 17,
   "metadata": {},
   "outputs": [
    {
     "name": "stdout",
     "output_type": "stream",
     "text": [
      "Mean Square Error      = 0.004748964872469868\n",
      "Root Mean Square Error = 0.06891273374689084\n",
      "Mean Absolute Error    = 0.052528538767375475\n",
      "Median Absolute Error  = 0.042863496041332105\n",
      "R^2                    = 0.9596930978389051\n",
      "Adjusted R^2           = 0.9593269180413447\n"
     ]
    }
   ],
   "source": [
    "#Basic metrics \n",
    "\n",
    "def print_metrics(y_true, y_predicted, n_parameters):\n",
    "    ## First compute R^2 and the adjusted R^2\n",
    "    r2 = sklm.r2_score(y_true, y_predicted)\n",
    "    r2_adj = r2 - (n_parameters - 1)/(y_true.shape[0] - n_parameters) * (1 - r2)\n",
    "    \n",
    "    ## Print the usual metrics and the R^2 values\n",
    "    print('Mean Square Error      = ' + str(sklm.mean_squared_error(y_true, y_predicted)))\n",
    "    print('Root Mean Square Error = ' + str(math.sqrt(sklm.mean_squared_error(y_true, y_predicted))))\n",
    "    print('Mean Absolute Error    = ' + str(sklm.mean_absolute_error(y_true, y_predicted)))\n",
    "    print('Median Absolute Error  = ' + str(sklm.median_absolute_error(y_true, y_predicted)))\n",
    "    print('R^2                    = ' + str(r2))\n",
    "    print('Adjusted R^2           = ' + str(r2_adj))\n",
    "   \n",
    "y_score = lin_mod.predict(x_test) \n",
    "print_metrics(y_test, y_score, 28)    "
   ]
  },
  {
   "cell_type": "code",
   "execution_count": 17,
   "metadata": {},
   "outputs": [
    {
     "name": "stdout",
     "output_type": "stream",
     "text": [
      "Mean Square Error      = 0.004748964872469868\n",
      "Root Mean Square Error = 0.06891273374689084\n",
      "Mean Absolute Error    = 0.052528538767375475\n",
      "Median Absolute Error  = 0.042863496041332105\n",
      "R^2                    = 0.9596930978389051\n",
      "Adjusted R^2           = 0.9593269180413447\n"
     ]
    }
   ],
   "source": [
    "#Basic metrics \n",
    "\n",
    "def print_metrics(y_true, y_predicted, n_parameters):\n",
    "    ## First compute R^2 and the adjusted R^2\n",
    "    r2 = sklm.r2_score(y_true, y_predicted)\n",
    "    r2_adj = r2 - (n_parameters - 1)/(y_true.shape[0] - n_parameters) * (1 - r2)\n",
    "    \n",
    "    ## Print the usual metrics and the R^2 values\n",
    "    print('Mean Square Error      = ' + str(sklm.mean_squared_error(y_true, y_predicted)))\n",
    "    print('Root Mean Square Error = ' + str(math.sqrt(sklm.mean_squared_error(y_true, y_predicted))))\n",
    "    print('Mean Absolute Error    = ' + str(sklm.mean_absolute_error(y_true, y_predicted)))\n",
    "    print('Median Absolute Error  = ' + str(sklm.median_absolute_error(y_true, y_predicted)))\n",
    "    print('R^2                    = ' + str(r2))\n",
    "    print('Adjusted R^2           = ' + str(r2_adj))\n",
    "   \n",
    "y_score = lin_mod.predict(x_test) \n",
    "print_metrics(y_test, y_score, 28)    "
   ]
  },
  {
   "cell_type": "code",
   "execution_count": 18,
   "metadata": {},
   "outputs": [
    {
     "data": {
      "image/png": "[encoded data removed]",
      "text/plain": [
       "<Figure size 432x288 with 1 Axes>"
      ]
     },
     "metadata": {},
     "output_type": "display_data"
    }
   ],
   "source": [
    "# Display a histogram of the residuals\n",
    "\n",
    "def hist_resids(y_test, y_score):\n",
    "    ## first compute vector of residuals. \n",
    "    resids = np.subtract(y_test.reshape(-1,1), y_score.reshape(-1,1))\n",
    "    ## now make the residual plots\n",
    "    sns.distplot(resids)\n",
    "    plt.title('Histogram of residuals')\n",
    "    plt.xlabel('Residual value')\n",
    "    plt.ylabel('count')\n",
    "    \n",
    "hist_resids(y_test, y_score)    "
   ]
  },
  {
   "cell_type": "code",
   "execution_count": 19,
   "metadata": {},
   "outputs": [
    {
     "data": {
      "image/png": "[encoded data removed]",
      "text/plain": [
       "<Figure size 432x288 with 1 Axes>"
      ]
     },
     "metadata": {},
     "output_type": "display_data"
    }
   ],
   "source": [
    "# Display Q-Q Normal Plot\n",
    "\n",
    "def resid_qq(y_test, y_score):\n",
    "    ## first compute vector of residuals. \n",
    "    resids = np.subtract(y_test.reshape(-1,1), y_score.reshape(-1,1))\n",
    "    ## now make the residual plots\n",
    "    ss.probplot(resids.flatten(), plot = plt)\n",
    "    plt.title('Residuals vs. predicted values')\n",
    "    plt.xlabel('Predicted values')\n",
    "    plt.ylabel('Residual')\n",
    "    \n",
    "resid_qq(y_test, y_score)   "
   ]
  },
  {
   "cell_type": "code",
   "execution_count": 20,
   "metadata": {},
   "outputs": [
    {
     "data": {
      "image/png": "[encoded data removed]",
      "text/plain": [
       "<Figure size 432x288 with 1 Axes>"
      ]
     },
     "metadata": {},
     "output_type": "display_data"
    }
   ],
   "source": [
    "# Residuals versus predicted \n",
    "\n",
    "def resid_plot(y_test, y_score,):\n",
    "    ## first compute vector of residuals. \n",
    "    resids = np.subtract(y_test.reshape(-1,1), y_score.reshape(-1,1))\n",
    "    ## now make the residual plots\n",
    "    sns.regplot(y_score, resids, fit_reg=False)\n",
    "    plt.title('Residuals vs. predicted values')\n",
    "    plt.xlabel('Predicted values')\n",
    "    plt.ylabel('Residual')\n",
    "\n",
    "resid_plot(y_test, y_score) "
   ]
  },
  {
   "cell_type": "code",
   "execution_count": 21,
   "metadata": {},
   "outputs": [
    {
     "data": {
      "image/png": "[encoded data removed]",
      "text/plain": [
       "<Figure size 432x288 with 1 Axes>"
      ]
     },
     "metadata": {},
     "output_type": "display_data"
    }
   ],
   "source": [
    "#The prior residual plot was for the log of AveMoSpend. Create another but transforme to real prices \n",
    "\n",
    "y_score_untransform = np.exp(y_score)\n",
    "y_test_untransform = np.exp(y_test)\n",
    "resid_plot(y_test_untransform, y_score_untransform) "
   ]
  }
 ],
 "metadata": {
  "kernelspec": {
   "display_name": "Python 3",
   "language": "python",
   "name": "python3"
  },
  "language_info": {
   "codemirror_mode": {
    "name": "ipython",
    "version": 3
   },
   "file_extension": ".py",
   "mimetype": "text/x-python",
   "name": "python",
   "nbconvert_exporter": "python",
   "pygments_lexer": "ipython3",
   "version": "3.7.3"
  }
 },
 "nbformat": 4,
 "nbformat_minor": 2
}
